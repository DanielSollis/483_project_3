{
 "cells": [
  {
   "cell_type": "code",
   "execution_count": 18,
   "metadata": {},
   "outputs": [],
   "source": [
    "import pandas as pd\n",
    "import numpy as np\n",
    "from matplotlib import pyplot as plt\n",
    "from sklearn import preprocessing\n",
    "\n",
    "#experiment 0\n",
    "bank = pd.read_csv('bank.csv', sep=';')\n",
    "\n",
    "# Ordinal features\n",
    "#\n",
    "# Note: month probably shouldn't be ordinal.\n",
    "# Then again, neither should day.\n",
    "\n",
    "boolean = {'no': 0.0, 'yes': 1.0}\n",
    "months = {\n",
    "    'jan': 1.0, 'feb': 2.0, 'mar': 3.0, 'apr': 4.0,  'may': 5.0,  'jun': 6.0,\n",
    "    'jul': 7.0, 'aug': 8.0, 'sep': 9.0, 'oct': 10.0, 'nov': 11.0, 'dec': 12.0\n",
    "}\n",
    "\n",
    "bank.replace({\n",
    "    'default': boolean,\n",
    "    'housing': boolean,\n",
    "    'loan':    boolean,\n",
    "\n",
    "    'month':   months,\n",
    "    'y':       boolean\n",
    "}, inplace=True)\n",
    "\n",
    "# Categorical features\n",
    "#\n",
    "# Since we plan to use logistic regression, add drop_first=True\n",
    "# to use dummy instead of one-hot encoding\n",
    "\n",
    "categorical = ['job', 'marital', 'education', 'contact', 'poutcome']\n",
    "bank = pd.get_dummies(bank, columns=categorical,\n",
    "                      prefix=categorical, drop_first=True)\n",
    "\n",
    "# Numeric features\n",
    "#\n",
    "# Standardized because we plan to use KNN and SVM\n",
    "\n",
    "scaled = ['age', 'balance', 'day', 'month',\n",
    "          'duration', 'campaign', 'pdays', 'previous']\n",
    "bank[scaled] = preprocessing.scale(bank[scaled].astype(float))\n",
    "\n",
    "# Training set and targets\n",
    "X = bank.drop(columns='y').values\n",
    "t = bank['y'].values"
   ]
  },
  {
   "cell_type": "code",
   "execution_count": 19,
   "metadata": {},
   "outputs": [],
   "source": [
    "#experiment 1\n",
    "from sklearn.model_selection import train_test_split\n",
    "X_train, X_test, t_train, t_test = train_test_split(X, t, test_size = 0.2, shuffle = True)"
   ]
  },
  {
   "cell_type": "code",
   "execution_count": 20,
   "metadata": {},
   "outputs": [
    {
     "data": {
      "text/plain": [
       "GaussianNB(priors=None, var_smoothing=1e-09)"
      ]
     },
     "execution_count": 20,
     "metadata": {},
     "output_type": "execute_result"
    }
   ],
   "source": [
    "#experiment 2\n",
    "from sklearn.naive_bayes import GaussianNB\n",
    "gaussian_clf = GaussianNB()\n",
    "gaussian_clf.fit(X_train, t_train)"
   ]
  },
  {
   "cell_type": "code",
   "execution_count": 21,
   "metadata": {},
   "outputs": [
    {
     "name": "stdout",
     "output_type": "stream",
     "text": [
      "Gausian CLF Score: 0.8331491712707182\n",
      "Confusion Matrix \n",
      "[[703  95]\n",
      " [ 56  51]]\n",
      "Gaussian CLF auc Score: <function roc_auc_score at 0x7f9fda97eb18>\n"
     ]
    },
    {
     "data": {
      "image/png": "[encoded data removed]",
      "text/plain": [
       "<Figure size 432x288 with 1 Axes>"
      ]
     },
     "metadata": {
      "needs_background": "light"
     },
     "output_type": "display_data"
    }
   ],
   "source": [
    "#experiment 3\n",
    "from sklearn.metrics import confusion_matrix, roc_curve, roc_auc_score\n",
    "gaussian_score = gaussian_clf.score(X_test, t_test)\n",
    "\n",
    "gaussian_pred = gaussian_clf.predict(X_test)\n",
    "cm = confusion_matrix(t_test, gaussian_pred)\n",
    "\n",
    "gaussian_proba = gaussian_clf.predict_proba(X_test)[:, 1]\n",
    "fpr, tpr, thresholds = roc_curve(t_test, gaussian_proba)\n",
    "auc = roc_auc_score(t_test, gaussian_proba)\n",
    "\n",
    "print \"Gausian CLF Score: \" + str(gaussian_score)\n",
    "print \"Confusion Matrix \"\n",
    "print cm\n",
    "print \"Gaussian CLF auc Score: \" + str(roc_auc_score)\n",
    "\n",
    "plt.figure()\n",
    "plt.plot(fpr, tpr)\n",
    "plt.plot([0, 1], [0, 1])\n",
    "plt.xlabel('FPR')\n",
    "plt.ylabel('TPR')\n",
    "plt.show()"
   ]
  },
  {
   "cell_type": "code",
   "execution_count": 22,
   "metadata": {},
   "outputs": [
    {
     "name": "stdout",
     "output_type": "stream",
     "text": [
      "Logistic CLF Score: 0.8917127071823204\n"
     ]
    }
   ],
   "source": [
    "#eperiment 4\n",
    "from sklearn.linear_model import LogisticRegression\n",
    "logistic_clf = LogisticRegression(fit_intercept = False, solver = 'lbfgs')\n",
    "logistic_clf.fit(X_train, t_train)\n",
    "logistic_score = logistic_clf.score(X_test, t_test)\n",
    "print \"Logistic CLF Score: \" + str(logistic_score)"
   ]
  },
  {
   "cell_type": "code",
   "execution_count": 31,
   "metadata": {},
   "outputs": [],
   "source": [
    "#experiment 5\n",
    "from sklearn.svm import SVC\n",
    "results = []\n",
    "for i, k in enumerate(['linear', 'poly', 'rbf', 'sigmoid']):\n",
    "\tsvc = SVC(kernel = k).fit(X_train, t_train)\n",
    "\tsvc_score = svc.score(X_test, t_test)\n",
    "\tresults.append(svc_score)"
   ]
  },
  {
   "cell_type": "code",
   "execution_count": 33,
   "metadata": {},
   "outputs": [
    {
     "name": "stdout",
     "output_type": "stream",
     "text": [
      "The best kernel was linear with a score of 0.8917127071823204\n"
     ]
    }
   ],
   "source": [
    "#eperiment 6\n",
    "score_max = 0\n",
    "best_kernel = -1\n",
    "for k in range(0, 4):\n",
    "\tif results[k] > score_max:\t\t\t\t\t\t\t\t\t\t\t\t\t\t\t\t\t\t\t\t\t\t\t\t\t\t\t\t\t\t\t\t\t\t\t\t\t\t\t\t\t\t\t\t\t\t\t\t\t\n",
    "\t\tscore_max = results[k]\n",
    "\t\tbest_kernel = k\n",
    "if (best_kernel == 0):\n",
    "\tbest_kernel = 'linear'\n",
    "elif (best_kernel == 1):\n",
    "\tbest_kernel = 'poly'\t\n",
    "elif (best_kernel == 2):\n",
    "\tbest_kernel = 'rbf'\n",
    "elif (best_kernel == 3):\n",
    "\tbest_kernel = 'sigmoid'\t\t\n",
    "print \"The best kernel was \" + str(best_kernel) + \", with a score of \" + str(score_max)"
   ]
  },
  {
   "cell_type": "code",
   "execution_count": null,
   "metadata": {},
   "outputs": [],
   "source": []
  }
 ],
 "metadata": {
  "kernelspec": {
   "display_name": "Python 2",
   "language": "python",
   "name": "python2"
  },
  "language_info": {
   "codemirror_mode": {
    "name": "ipython",
    "version": 2
   },
   "file_extension": ".py",
   "mimetype": "text/x-python",
   "name": "python",
   "nbconvert_exporter": "python",
   "pygments_lexer": "ipython2",
   "version": "2.7.16"
  }
 },
 "nbformat": 4,
 "nbformat_minor": 2
}
